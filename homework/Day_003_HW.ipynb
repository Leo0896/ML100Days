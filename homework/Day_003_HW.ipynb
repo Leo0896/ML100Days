{
 "cells": [
  {
   "cell_type": "code",
   "execution_count": null,
   "metadata": {},
   "outputs": [],
   "source": [
    "專案目標：讓AI學習從唇部動作中讀取講話的内容\n",
    "\n",
    "使用的方法：收集海量的講話影片，將其唇部動作和發出的聲音進行比對，來判定這句音詞的唇部動作為何。並且建立海量的數據庫來訓練AI、驗證或測試AI。\n",
    "\n",
    "\n",
    "資料來源：https://www.jiqizhixin.com/articles/2020-06-06-4\n",
    "当AI也精通了「读唇术」：戴上口罩或许是我最后的倔强"
   ]
  }
 ],
 "metadata": {
  "kernelspec": {
   "display_name": "Python 3",
   "language": "python",
   "name": "python3"
  },
  "language_info": {
   "codemirror_mode": {
    "name": "ipython",
    "version": 3
   },
   "file_extension": ".py",
   "mimetype": "text/x-python",
   "name": "python",
   "nbconvert_exporter": "python",
   "pygments_lexer": "ipython3",
   "version": "3.7.6"
  }
 },
 "nbformat": 4,
 "nbformat_minor": 4
}
